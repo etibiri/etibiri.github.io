{
 "cells": [
  {
   "cell_type": "markdown",
   "id": "016e22a9",
   "metadata": {},
   "source": [
    "# Étude de Cas : analyse de séquences ADN et exploration de données métagénomiques"
   ]
  },
  {
   "cell_type": "markdown",
   "id": "e90a1277",
   "metadata": {},
   "source": [
    "## Contexte\n",
    "\n",
    "Vous êtes un bioinformaticien travaillant sur l’analyse de séquences ADN issues d’un séquençage métagénomique à l’aide de la technologie Nanopore. Votre objectif est de détecter la présence de virus potentiellement pathogènes dans un échantillon environnemental."
   ]
  },
  {
   "cell_type": "markdown",
   "id": "c3db9b6f",
   "metadata": {},
   "source": [
    "## Objectifs pédagogiques\n",
    " - Comprendre le format FASTQ et manipuler des séquences ADN.\n",
    " - Apprendre à filtrer les lectures et à évaluer leur qualité.\n",
    " - Effectuer un alignement des lectures sur une base de données de référence.\n",
    " - Explorer et visualiser les résultats sous forme de graphiques.\n",
    " - Interpréter des résultats d’analyse métagénomique."
   ]
  },
  {
   "cell_type": "markdown",
   "id": "f687be8b",
   "metadata": {},
   "source": [
    "## Outils requis\n",
    " - Bash\n",
    " - FastQC ou NanoPlot : Contrôle qualité des séquences\n",
    " - Minimap2 : Alignement des lectures sur une base de données\n",
    " - Samtools : Manipulation et filtrage des fichiers d’alignement"
   ]
  },
  {
   "cell_type": "code",
   "execution_count": null,
   "id": "ec5ca02c",
   "metadata": {},
   "outputs": [],
   "source": [
    "# Intallation de nanoplot\n"
   ]
  },
  {
   "cell_type": "markdown",
   "id": "056bb60e",
   "metadata": {},
   "source": [
    "## Étape 1 : Contrôle qualité des lectures"
   ]
  },
  {
   "cell_type": "code",
   "execution_count": null,
   "id": "8a631bd9",
   "metadata": {},
   "outputs": [],
   "source": [
    "NanoPlot -t 2 --fastq reads1.fastq.gz reads2.fastq.gz"
   ]
  },
  {
   "cell_type": "markdown",
   "id": "40ee5889",
   "metadata": {},
   "source": [
    "## Étape 2 : Filtrage des séquences de mauvaise qualité"
   ]
  },
  {
   "cell_type": "code",
   "execution_count": null,
   "id": "108675e8",
   "metadata": {},
   "outputs": [],
   "source": [
    "cd ~/Documents/2025/etibiri.github.io/data\n",
    "seqtk trimfq -q 20 data.fastq > output/filtered_reads.fastq"
   ]
  },
  {
   "cell_type": "markdown",
   "id": "204f1e65",
   "metadata": {},
   "source": [
    "## Étape 3 : Alignement avec Minimap2"
   ]
  },
  {
   "cell_type": "code",
   "execution_count": null,
   "id": "a91ac69e",
   "metadata": {},
   "outputs": [],
   "source": [
    "cd ~/Documents/2025/etibiri.github.io/data\n",
    "minimap2 -ax map-ont reference_database.mmi data/filtered_reads.fastq > data/alignment.sam"
   ]
  },
  {
   "cell_type": "markdown",
   "id": "b84fba67",
   "metadata": {},
   "source": [
    "## Étape 4 : Conversion et tri du fichier SAM en BAM"
   ]
  },
  {
   "cell_type": "code",
   "execution_count": null,
   "id": "58a0f303",
   "metadata": {},
   "outputs": [],
   "source": [
    "!samtools view -S -b data/alignment.sam | samtools sort -o data/alignment_sorted.bam"
   ]
  },
  {
   "cell_type": "markdown",
   "id": "81069095",
   "metadata": {},
   "source": [
    "## Étape 5 : Comptage des lectures alignées"
   ]
  },
  {
   "cell_type": "code",
   "execution_count": null,
   "id": "b0f85622",
   "metadata": {},
   "outputs": [],
   "source": [
    "!samtools idxstats data/alignment_sorted.bam"
   ]
  }
 ],
 "metadata": {
  "kernelspec": {
   "display_name": "Python 3 (ipykernel)",
   "language": "python",
   "name": "python3"
  },
  "language_info": {
   "codemirror_mode": {
    "name": "ipython",
    "version": 3
   },
   "file_extension": ".py",
   "mimetype": "text/x-python",
   "name": "python",
   "nbconvert_exporter": "python",
   "pygments_lexer": "ipython3",
   "version": "3.12.3"
  }
 },
 "nbformat": 4,
 "nbformat_minor": 5
}
